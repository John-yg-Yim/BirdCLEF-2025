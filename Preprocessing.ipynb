{
 "cells": [
  {
   "cell_type": "code",
   "execution_count": null,
   "id": "e116fab7",
   "metadata": {
    "vscode": {
     "languageId": "plaintext"
    }
   },
   "outputs": [],
   "source": [
    "import os\n",
    "import cv2\n",
    "import time\n",
    "import librosa\n",
    "import pandas as pd\n",
    "import numpy as np\n",
    "from tqdm.notebook import tqdm\n",
    "\n",
    "import warnings\n",
    "warnings.filterwarnings(\"ignore\")"
   ]
  },
  {
   "cell_type": "code",
   "execution_count": null,
   "id": "8892ebd8",
   "metadata": {
    "vscode": {
     "languageId": "plaintext"
    }
   },
   "outputs": [],
   "source": [
    "class Config:\n",
    " \n",
    "    DEBUG_MODE = False\n",
    "    \n",
    "    OUTPUT_DIR = './numpy_dataset'\n",
    "    DATA_ROOT = '..'\n",
    "    FS = 32000\n",
    "    \n",
    "    # Mel spectrogram parameters\n",
    "    N_FFT = 1034\n",
    "    HOP_LENGTH = 64\n",
    "    N_MELS = 136\n",
    "    FMIN = 20\n",
    "    FMAX = 16000\n",
    "    \n",
    "    TARGET_DURATION = 5.0\n",
    "    TARGET_SHAPE = (256, 256)\n",
    "    \n",
    "    N_MAX = 50 if DEBUG_MODE else None  \n",
    "\n",
    "config = Config()"
   ]
  },
  {
   "cell_type": "code",
   "execution_count": null,
   "id": "497da681",
   "metadata": {
    "vscode": {
     "languageId": "plaintext"
    }
   },
   "outputs": [],
   "source": [
    "print(f\"Debug mode: {'ON' if config.DEBUG_MODE else 'OFF'}\")\n",
    "print(f\"Max samples to process: {config.N_MAX if config.N_MAX is not None else 'ALL'}\")\n",
    "\n",
    "print(\"Loading taxonomy data...\")\n",
    "taxonomy_df = pd.read_csv(f'{config.DATA_ROOT}/taxonomy.csv')\n",
    "species_class_map = dict(zip(taxonomy_df['primary_label'], taxonomy_df['class_name']))\n",
    "\n",
    "print(\"Loading training metadata...\")\n",
    "train_df = pd.read_csv(f'{config.DATA_ROOT}/train.csv')"
   ]
  },
  {
   "cell_type": "code",
   "execution_count": null,
   "id": "a2211f72",
   "metadata": {
    "vscode": {
     "languageId": "plaintext"
    }
   },
   "outputs": [],
   "source": [
    "label_list = sorted(train_df['primary_label'].unique())\n",
    "label_id_list = list(range(len(label_list)))\n",
    "label2id = dict(zip(label_list, label_id_list))\n",
    "id2label = dict(zip(label_id_list, label_list))\n",
    "\n",
    "print(f'Found {len(label_list)} unique species')\n",
    "working_df = train_df[['primary_label', 'rating', 'filename']].copy()\n",
    "working_df['target'] = working_df.primary_label.map(label2id)\n",
    "working_df['filepath'] = config.DATA_ROOT + '/train_audio/' + working_df.filename\n",
    "working_df['samplename'] = working_df.filename.map(lambda x: x.split('/')[0] + '-' + x.split('/')[-1].split('.')[0])\n",
    "working_df['class'] = working_df.primary_label.map(lambda x: species_class_map.get(x, 'Unknown'))\n",
    "total_samples = min(len(working_df), config.N_MAX or len(working_df))\n",
    "print(f'Total samples to process: {total_samples} out of {len(working_df)} available')\n",
    "print(f'Samples by class:')\n",
    "print(working_df['class'].value_counts())"
   ]
  },
  {
   "cell_type": "code",
   "execution_count": null,
   "id": "e8f0766d",
   "metadata": {
    "vscode": {
     "languageId": "plaintext"
    }
   },
   "outputs": [],
   "source": [
    "def audio2melspec(audio_data):\n",
    "    if np.isnan(audio_data).any():\n",
    "        mean_signal = np.nanmean(audio_data)\n",
    "        audio_data = np.nan_to_num(audio_data, nan=mean_signal)\n",
    "\n",
    "    mel_spec = librosa.feature.melspectrogram(\n",
    "        y=audio_data,\n",
    "        sr=config.FS,\n",
    "        n_fft=config.N_FFT,\n",
    "        hop_length=config.HOP_LENGTH,\n",
    "        n_mels=config.N_MELS,\n",
    "        fmin=config.FMIN,\n",
    "        fmax=config.FMAX,\n",
    "        power=2.0,\n",
    "        pad_mode=\"reflect\",\n",
    "        norm='slaney',\n",
    "        htk=True,\n",
    "        center=True\n",
    "    )\n",
    "\n",
    "    mel_spec_db = librosa.power_to_db(mel_spec, ref=np.max)\n",
    "    mel_spec_norm = (mel_spec_db - mel_spec_db.min()) / (mel_spec_db.max() - mel_spec_db.min() + 1e-8)\n",
    "    \n",
    "    return mel_spec_norm"
   ]
  },
  {
   "cell_type": "code",
   "execution_count": null,
   "id": "f6928caa",
   "metadata": {
    "vscode": {
     "languageId": "plaintext"
    }
   },
   "outputs": [],
   "source": [
    "def slice_audio(y, sr, filename):\n",
    "    duration = len(y) / sr\n",
    "    td       = config.TARGET_DURATION  # 5.0\n",
    "    fs       = config.FS               # 32000\n",
    "\n",
    "    # 1. 파일 길이 체크\n",
    "    if duration < td:\n",
    "        n_repeat = int(np.ceil(td / duration))\n",
    "        y_rep    = np.tile(y, n_repeat)\n",
    "        return y_rep[:int(td * fs)]\n",
    "\n",
    "    # 2. CSA로 시작하는 파일명\n",
    "    if filename.upper().startswith(\"CSA\"):\n",
    "        start_sample = int(2.0 * fs)\n",
    "        return y[start_sample : start_sample + int(td * fs)]\n",
    "\n",
    "    # 3. 멜 스펙 변환 후 유효 구간 찾기\n",
    "    S = librosa.feature.melspectrogram(\n",
    "        y=y, sr=sr,\n",
    "        n_fft=config.N_FFT,\n",
    "        hop_length=config.HOP_LENGTH,\n",
    "        n_mels=config.N_MELS,\n",
    "        fmin=config.FMIN,\n",
    "        fmax=config.FMAX\n",
    "    )\n",
    "    S_db = librosa.power_to_db(S, ref=np.max)\n",
    "\n",
    "    mel_f    = librosa.mel_frequencies(\n",
    "        n_mels=config.N_MELS,\n",
    "        fmin=config.FMIN,\n",
    "        fmax=config.FMAX\n",
    "        )\n",
    "    \n",
    "    high_idx = np.where(mel_f >= 2000)[0]\n",
    "\n",
    "    full_max = S_db.max(axis=0)\n",
    "    high_max = S_db[high_idx, :].max(axis=0)\n",
    "\n",
    "    mask_frames = np.where(high_max > -27.5)[0]\n",
    "    times       = mask_frames * config.HOP_LENGTH / fs\n",
    "\n",
    "    # 저장된 구간 없으면 2~7초\n",
    "    if len(times) == 0:\n",
    "        start_sample = int(2.0 * fs)\n",
    "        return y[start_sample : start_sample + int(td * fs)]\n",
    "\n",
    "    # 연속 구간 병합\n",
    "    intervals = []\n",
    "    start_t   = times[0]\n",
    "    for t_prev, t in zip(times, times[1:]):\n",
    "        if t - t_prev > config.HOP_LENGTH / fs:\n",
    "            intervals.append((start_t, t_prev))\n",
    "            start_t = t\n",
    "    intervals.append((start_t, times[-1]))\n",
    "\n",
    "    # 슬라이딩 윈도우에서 가장 많이 포함된 5초 찾기\n",
    "    best_count = -1\n",
    "    best_start = 0.0\n",
    "    for s in np.arange(0, duration - td + 1e-6, 1.0):\n",
    "        e     = s + td\n",
    "        count = sum(i0 >= s and i1 <= e for i0, i1 in intervals)\n",
    "        if count > best_count:\n",
    "            best_count = count\n",
    "            best_start = s\n",
    "\n",
    "    start_sample = int(best_start * fs)\n",
    "    return y[start_sample : start_sample + int(td * fs)]"
   ]
  },
  {
   "cell_type": "code",
   "execution_count": null,
   "id": "7deba763",
   "metadata": {
    "vscode": {
     "languageId": "plaintext"
    }
   },
   "outputs": [],
   "source": [
    "print(\"Starting audio processing...\")\n",
    "print(f\"{'DEBUG MODE - Processing only 50 samples' if config.DEBUG_MODE else 'FULL MODE - Processing all samples'}\")\n",
    "start_time = time.time()\n",
    "\n",
    "all_bird_data = {}\n",
    "errors = []\n",
    "\n",
    "for i, row in tqdm(working_df.iterrows(), total=total_samples):\n",
    "    if config.N_MAX is not None and i >= config.N_MAX:\n",
    "        break\n",
    "    \n",
    "    try:\n",
    "        # 1) 오디오 로드\n",
    "        audio_data, _ = librosa.load(row.filepath, sr=config.FS)\n",
    "\n",
    "        # 2) 커스텀 5초 슬라이싱\n",
    "        audio5 = slice_audio(audio_data, config.FS, os.path.basename(row.filepath))\n",
    "        # (slice_audio 내부에서 길이 < 5s인 경우 반복+패딩도 처리됨)\n",
    "\n",
    "        # 3) 멜 스펙트로그램으로 변환\n",
    "        mel_spec = audio2melspec(audio5)\n",
    "\n",
    "        # 4) 크기가 맞지 않으면 리사이즈\n",
    "        if mel_spec.shape != config.TARGET_SHAPE:\n",
    "            mel_spec = cv2.resize(\n",
    "                mel_spec, config.TARGET_SHAPE, interpolation=cv2.INTER_LINEAR\n",
    "            )\n",
    "\n",
    "        # 5) 결과 저장\n",
    "        all_bird_data[row.samplename] = mel_spec.astype(np.float32)\n",
    "        \n",
    "    except Exception as e:\n",
    "        print(f\"Error processing {row.filepath}: {e}\")\n",
    "        errors.append((row.filepath, str(e)))\n",
    "\n",
    "end_time = time.time()\n",
    "print(f\"Processing completed in {end_time - start_time:.2f} seconds\")\n",
    "print(f\"Successfully processed {len(all_bird_data)} files out of {total_samples} total\")\n",
    "print(f\"Failed to process {len(errors)} files\")\n",
    "\n",
    "# 🔄 저장 경로 지정\n",
    "os.makedirs(config.OUTPUT_DIR, exist_ok=True)\n",
    "save_path = os.path.join(config.OUTPUT_DIR, 'train.npy')\n",
    "\n",
    "# 💾 딕셔너리 저장\n",
    "np.save(save_path, all_bird_data)\n",
    "\n",
    "print(f\"Saved mel spectrograms to {save_path} ({len(all_bird_data)} items)\")"
   ]
  }
 ],
 "metadata": {
  "language_info": {
   "name": "python"
  }
 },
 "nbformat": 4,
 "nbformat_minor": 5
}
